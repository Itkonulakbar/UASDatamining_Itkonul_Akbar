{
 "cells": [
  {
   "cell_type": "code",
   "execution_count": 31,
   "id": "dc6983bb-8b16-4a9c-9d80-f15856678941",
   "metadata": {},
   "outputs": [],
   "source": [
    "import numpy as np\n",
    "import matplotlib.pyplot as plt\n",
    "import pandas as pd"
   ]
  },
  {
   "cell_type": "code",
   "execution_count": 2,
   "id": "b67ce816-da22-4d4e-8f8b-454094f6f8f0",
   "metadata": {},
   "outputs": [],
   "source": [
    "dataset = pd.read_csv('Data Intelligent Irrigation System.csv')"
   ]
  },
  {
   "cell_type": "code",
   "execution_count": 3,
   "id": "873aa849-d8ad-40e8-abb2-4f8bada604de",
   "metadata": {},
   "outputs": [
    {
     "data": {
      "text/html": [
       "<div>\n",
       "<style scoped>\n",
       "    .dataframe tbody tr th:only-of-type {\n",
       "        vertical-align: middle;\n",
       "    }\n",
       "\n",
       "    .dataframe tbody tr th {\n",
       "        vertical-align: top;\n",
       "    }\n",
       "\n",
       "    .dataframe thead th {\n",
       "        text-align: right;\n",
       "    }\n",
       "</style>\n",
       "<table border=\"1\" class=\"dataframe\">\n",
       "  <thead>\n",
       "    <tr style=\"text-align: right;\">\n",
       "      <th></th>\n",
       "      <th>crop</th>\n",
       "      <th>moisture</th>\n",
       "      <th>temp</th>\n",
       "      <th>pump</th>\n",
       "    </tr>\n",
       "  </thead>\n",
       "  <tbody>\n",
       "    <tr>\n",
       "      <th>0</th>\n",
       "      <td>cotton</td>\n",
       "      <td>638</td>\n",
       "      <td>16</td>\n",
       "      <td>1</td>\n",
       "    </tr>\n",
       "    <tr>\n",
       "      <th>1</th>\n",
       "      <td>cotton</td>\n",
       "      <td>522</td>\n",
       "      <td>18</td>\n",
       "      <td>1</td>\n",
       "    </tr>\n",
       "    <tr>\n",
       "      <th>2</th>\n",
       "      <td>cotton</td>\n",
       "      <td>741</td>\n",
       "      <td>22</td>\n",
       "      <td>1</td>\n",
       "    </tr>\n",
       "    <tr>\n",
       "      <th>3</th>\n",
       "      <td>cotton</td>\n",
       "      <td>798</td>\n",
       "      <td>32</td>\n",
       "      <td>1</td>\n",
       "    </tr>\n",
       "    <tr>\n",
       "      <th>4</th>\n",
       "      <td>cotton</td>\n",
       "      <td>690</td>\n",
       "      <td>28</td>\n",
       "      <td>1</td>\n",
       "    </tr>\n",
       "  </tbody>\n",
       "</table>\n",
       "</div>"
      ],
      "text/plain": [
       "     crop  moisture  temp  pump\n",
       "0  cotton       638    16     1\n",
       "1  cotton       522    18     1\n",
       "2  cotton       741    22     1\n",
       "3  cotton       798    32     1\n",
       "4  cotton       690    28     1"
      ]
     },
     "execution_count": 3,
     "metadata": {},
     "output_type": "execute_result"
    }
   ],
   "source": [
    "dataset.head()"
   ]
  },
  {
   "cell_type": "code",
   "execution_count": 4,
   "id": "4141e930-a021-4818-8f12-ec2aee2e142c",
   "metadata": {},
   "outputs": [],
   "source": [
    "x = dataset.iloc[:, [1, 2]].values\n",
    "y = dataset.iloc[:, -1].values"
   ]
  },
  {
   "cell_type": "code",
   "execution_count": 5,
   "id": "b14b44e6-f71b-465a-aee6-41c5e902c09c",
   "metadata": {},
   "outputs": [
    {
     "name": "stdout",
     "output_type": "stream",
     "text": [
      "[[ 638   16]\n",
      " [ 522   18]\n",
      " [ 741   22]\n",
      " [ 798   32]\n",
      " [ 690   28]\n",
      " [ 558   23]\n",
      " [ 578   12]\n",
      " [ 673   35]\n",
      " [ 642   45]\n",
      " [ 723   11]\n",
      " [ 671   23]\n",
      " [ 758   34]\n",
      " [ 507   45]\n",
      " [ 586   33]\n",
      " [ 703   45]\n",
      " [ 716   25]\n",
      " [ 724   11]\n",
      " [ 828   41]\n",
      " [ 633   23]\n",
      " [ 783   18]\n",
      " [ 635   36]\n",
      " [ 525   33]\n",
      " [ 636   24]\n",
      " [ 813   15]\n",
      " [ 736   44]\n",
      " [ 833   13]\n",
      " [ 808   29]\n",
      " [ 714   14]\n",
      " [ 806   28]\n",
      " [ 681   31]\n",
      " [ 661   35]\n",
      " [ 546   32]\n",
      " [ 759   10]\n",
      " [ 803   21]\n",
      " [ 670   22]\n",
      " [ 796   21]\n",
      " [ 665   32]\n",
      " [ 687   11]\n",
      " [ 573   13]\n",
      " [ 812   38]\n",
      " [ 698   45]\n",
      " [ 675   39]\n",
      " [ 700   38]\n",
      " [ 749   38]\n",
      " [ 537   44]\n",
      " [ 748   27]\n",
      " [ 824   37]\n",
      " [ 839   29]\n",
      " [ 740   31]\n",
      " [ 533   42]\n",
      " [ 775   40]\n",
      " [ 663   24]\n",
      " [ 639   14]\n",
      " [ 612   31]\n",
      " [ 580   14]\n",
      " [ 632   14]\n",
      " [ 535   17]\n",
      " [ 818   15]\n",
      " [ 503   44]\n",
      " [ 788   12]\n",
      " [ 513   27]\n",
      " [ 729   41]\n",
      " [ 659   29]\n",
      " [ 629   41]\n",
      " [ 641   35]\n",
      " [ 676   30]\n",
      " [ 739   14]\n",
      " [ 773   20]\n",
      " [ 792   15]\n",
      " [ 509   19]\n",
      " [ 682   40]\n",
      " [ 637   29]\n",
      " [ 769   13]\n",
      " [ 611   12]\n",
      " [ 574   32]\n",
      " [ 623   32]\n",
      " [ 539   26]\n",
      " [ 595   30]\n",
      " [ 683   39]\n",
      " [ 760   18]\n",
      " [ 697   25]\n",
      " [ 766   39]\n",
      " [ 768   17]\n",
      " [ 734   16]\n",
      " [ 579   45]\n",
      " [ 737   34]\n",
      " [ 699   22]\n",
      " [ 757   43]\n",
      " [ 624   15]\n",
      " [ 545   29]\n",
      " [ 850   16]\n",
      " [ 722   26]\n",
      " [ 795   15]\n",
      " [ 817   18]\n",
      " [ 830   44]\n",
      " [ 843   41]\n",
      " [ 553   35]\n",
      " [ 837   30]\n",
      " [ 588   18]\n",
      " [ 733   26]\n",
      " [  89   42]\n",
      " [  76   35]\n",
      " [ 434   19]\n",
      " [ 487   16]\n",
      " [ 493   18]\n",
      " [ 421   39]\n",
      " [ 379   23]\n",
      " [ 177   12]\n",
      " [ 482   27]\n",
      " [ 168   10]\n",
      " [ 208   39]\n",
      " [ 162   29]\n",
      " [ 306   25]\n",
      " [ 394   27]\n",
      " [ 184   29]\n",
      " [ 429   17]\n",
      " [  81   20]\n",
      " [ 158   17]\n",
      " [ 435   10]\n",
      " [ 401   17]\n",
      " [ 271   33]\n",
      " [ 161   18]\n",
      " [ 124   40]\n",
      " [  26   23]\n",
      " [ 175   15]\n",
      " [ 293   25]\n",
      " [ 354   20]\n",
      " [ 245   43]\n",
      " [ 462   32]\n",
      " [ 466   41]\n",
      " [  75   37]\n",
      " [ 209   43]\n",
      " [ 304   43]\n",
      " [ 256   40]\n",
      " [ 141   43]\n",
      " [ 302   23]\n",
      " [  87   12]\n",
      " [  72   13]\n",
      " [   4   42]\n",
      " [ 178   39]\n",
      " [  36   16]\n",
      " [  39   38]\n",
      " [ 107   31]\n",
      " [  21   37]\n",
      " [  59   20]\n",
      " [ 206   37]\n",
      " [ 143   43]\n",
      " [  52   44]\n",
      " [ 149   24]\n",
      " [  74   20]\n",
      " [ 861   33]\n",
      " [ 938   14]\n",
      " [ 981   36]\n",
      " [1019   37]\n",
      " [ 876   40]\n",
      " [1020   27]\n",
      " [ 933   42]\n",
      " [ 889   39]\n",
      " [ 865   17]\n",
      " [ 920   10]\n",
      " [ 926   18]\n",
      " [ 923   10]\n",
      " [ 853   29]\n",
      " [ 922   23]\n",
      " [ 998   28]\n",
      " [ 966   16]\n",
      " [ 950   13]\n",
      " [1001   36]\n",
      " [ 930   18]\n",
      " [ 999   30]\n",
      " [ 873   44]\n",
      " [ 969   39]\n",
      " [ 881   26]\n",
      " [ 896   42]\n",
      " [ 857   20]\n",
      " [1010   10]\n",
      " [ 947   41]\n",
      " [ 859   20]\n",
      " [1005   43]\n",
      " [ 937   28]\n",
      " [ 893   39]\n",
      " [ 872   10]\n",
      " [ 878   29]\n",
      " [ 883   40]\n",
      " [ 888   44]\n",
      " [1009   21]\n",
      " [ 917   33]\n",
      " [ 974   28]\n",
      " [ 858   19]\n",
      " [ 918   19]\n",
      " [1021   22]\n",
      " [ 986   36]\n",
      " [ 968   17]\n",
      " [1015   35]\n",
      " [ 914   35]\n",
      " [ 941   13]\n",
      " [ 902   45]\n",
      " [ 894   42]\n",
      " [1022   45]\n",
      " [ 979   10]]\n"
     ]
    }
   ],
   "source": [
    "print(x)"
   ]
  },
  {
   "cell_type": "code",
   "execution_count": 6,
   "id": "743eb05d-5a3f-4352-99a0-198bb73a809b",
   "metadata": {},
   "outputs": [
    {
     "name": "stdout",
     "output_type": "stream",
     "text": [
      "[1 1 1 1 1 1 1 1 1 1 1 1 1 1 1 1 1 1 1 1 1 1 1 1 1 1 1 1 1 1 1 1 1 1 1 1 1\n",
      " 1 1 1 1 1 1 1 1 1 1 1 1 1 1 1 1 1 1 1 1 1 1 1 1 1 1 1 1 1 1 1 1 1 1 1 1 1\n",
      " 1 1 1 1 1 1 1 1 1 1 1 1 1 1 1 1 1 1 1 1 1 1 1 1 1 1 0 0 0 0 0 0 0 0 0 0 0\n",
      " 0 0 0 0 0 0 0 0 0 0 0 0 0 0 0 0 0 0 0 0 0 0 0 0 0 0 0 0 0 0 0 0 0 0 0 0 0\n",
      " 0 0 1 1 1 1 1 1 1 1 1 1 1 1 1 1 1 1 1 1 1 1 1 1 1 1 1 1 1 1 1 1 1 1 1 1 1\n",
      " 1 1 1 1 1 1 1 1 1 1 1 1 1 1 1]\n"
     ]
    }
   ],
   "source": [
    "print(y)"
   ]
  },
  {
   "cell_type": "markdown",
   "id": "7935dcdd-b1e1-4ea8-a8bd-e67ba6f4d3fa",
   "metadata": {},
   "source": [
    "Membagi Dataset ke Data Training Dan Data Testing"
   ]
  },
  {
   "cell_type": "code",
   "execution_count": 7,
   "id": "1b98a255-cf17-4405-ab02-22e0c7cc948a",
   "metadata": {},
   "outputs": [],
   "source": [
    "from sklearn.model_selection import train_test_split\n",
    "x_train, x_test, y_train, Y_test = train_test_split(x, y, test_size=0.25, random_state=0)"
   ]
  },
  {
   "cell_type": "code",
   "execution_count": null,
   "id": "49281d8a-402c-4562-ab57-0fe433f4846b",
   "metadata": {},
   "outputs": [],
   "source": [
    "print(x_train)"
   ]
  },
  {
   "cell_type": "code",
   "execution_count": 9,
   "id": "9dae6c9a-c6e3-44ba-9c15-c93ef0320444",
   "metadata": {},
   "outputs": [
    {
     "data": {
      "text/plain": [
       "200"
      ]
     },
     "execution_count": 9,
     "metadata": {},
     "output_type": "execute_result"
    }
   ],
   "source": [
    "len(x)"
   ]
  },
  {
   "cell_type": "code",
   "execution_count": 10,
   "id": "dd61a5d3-4958-401c-932d-044a22a3996f",
   "metadata": {},
   "outputs": [
    {
     "data": {
      "text/plain": [
       "50"
      ]
     },
     "execution_count": 10,
     "metadata": {},
     "output_type": "execute_result"
    }
   ],
   "source": [
    "len(x_test)"
   ]
  },
  {
   "cell_type": "code",
   "execution_count": 11,
   "id": "f394d68a-6822-4a06-b366-264694141dda",
   "metadata": {},
   "outputs": [
    {
     "name": "stdout",
     "output_type": "stream",
     "text": [
      "[1 0 1 1 0 1 1 1 1 1 0 1 1 1 1 1 1 1 1 1 0 1 0 0 0 1 0 1 1 0 1 1 0 1 0 1 1\n",
      " 1 0 1 1 1 1 1 1 1 1 0 1 0 1 1 1 1 1 0 1 1 1 1 1 1 1 1 1 1 1 1 0 1 1 1 0 1\n",
      " 0 1 1 0 1 1 1 1 1 0 1 1 1 1 1 1 0 0 1 1 1 1 0 1 1 0 0 1 1 1 0 1 1 0 1 1 0\n",
      " 1 1 1 0 1 1 0 1 0 1 1 1 1 0 0 1 1 1 1 1 1 1 1 1 1 1 0 1 1 1 1 1 1 0 1 1 0\n",
      " 1 1]\n"
     ]
    }
   ],
   "source": [
    "print(y_train)"
   ]
  },
  {
   "cell_type": "code",
   "execution_count": 12,
   "id": "fc0025bd-9e0c-464f-8d73-680fadaa7a5c",
   "metadata": {},
   "outputs": [
    {
     "data": {
      "text/plain": [
       "150"
      ]
     },
     "execution_count": 12,
     "metadata": {},
     "output_type": "execute_result"
    }
   ],
   "source": [
    "len(y_train)"
   ]
  },
  {
   "cell_type": "markdown",
   "id": "f9088e67-88e5-4f7a-a417-5d93a4707924",
   "metadata": {},
   "source": [
    "Scalling Data"
   ]
  },
  {
   "cell_type": "code",
   "execution_count": 15,
   "id": "64a690a9-8538-460d-b6b4-64b92077edd5",
   "metadata": {},
   "outputs": [
    {
     "data": {
      "text/plain": [
       "50"
      ]
     },
     "execution_count": 15,
     "metadata": {},
     "output_type": "execute_result"
    }
   ],
   "source": [
    "len(Y_test)"
   ]
  },
  {
   "cell_type": "code",
   "execution_count": 16,
   "id": "943c8a0f-9440-4f30-876b-001034e18969",
   "metadata": {},
   "outputs": [],
   "source": [
    "from sklearn.preprocessing import StandardScaler\n",
    "sc = StandardScaler()\n",
    "x_train = sc.fit_transform(x_train)\n",
    "x_test = sc.transform(x_test)"
   ]
  },
  {
   "cell_type": "code",
   "execution_count": 17,
   "id": "044c9813-9e44-4fd8-8e9e-6a910233d997",
   "metadata": {},
   "outputs": [
    {
     "name": "stdout",
     "output_type": "stream",
     "text": [
      "[[-0.02646906  0.14049224]\n",
      " [-1.68948442 -1.14226299]\n",
      " [ 0.87703063  1.51487285]\n",
      " [ 0.69345101  0.23211761]\n",
      " [-2.05304406 -0.68413612]\n",
      " [ 0.32989137  1.51487285]\n",
      " [ 0.05992135  0.69024448]\n",
      " [ 1.01381544 -0.86738687]\n",
      " [ 0.19310656  1.60649822]\n",
      " [-0.3936283  -0.95901225]\n",
      " [-1.56709801  1.42324747]\n",
      " [-0.32883549  0.69024448]\n",
      " [ 0.81943702 -1.60038986]\n",
      " [ 0.49907259 -0.86738687]\n",
      " [ 1.34857827  0.87349523]\n",
      " [ 0.54226779 -1.14226299]\n",
      " [-0.23164628 -1.23388837]\n",
      " [ 0.99941704 -0.40926   ]\n",
      " [ 0.06712055 -0.31763463]\n",
      " [ 0.19670616 -0.50088538]\n",
      " [-1.67868562  1.05674598]\n",
      " [ 0.74024581 -1.05063762]\n",
      " [-2.06024326 -1.32551374]\n",
      " [-2.04584486  0.69024448]\n",
      " [-2.10703806 -0.68413612]\n",
      " [-0.35763229  0.14049224]\n",
      " [-1.71468162 -1.60038986]\n",
      " [ 0.21110456  1.60649822]\n",
      " [ 0.25070017 -1.23388837]\n",
      " [-2.17903007  0.9651206 ]\n",
      " [ 1.18659626  0.04886687]\n",
      " [ 0.6466562   0.87349523]\n",
      " [-2.30501608  1.3316221 ]\n",
      " [ 1.06780944 -1.32551374]\n",
      " [-0.58440712 -0.04275851]\n",
      " [ 0.05272215  0.14049224]\n",
      " [ 0.34788938 -0.50088538]\n",
      " [ 0.51707059 -1.41713912]\n",
      " [-2.00624925 -1.41713912]\n",
      " [ 0.89862823  1.3316221 ]\n",
      " [ 0.37668618  0.9651206 ]\n",
      " [ 0.09591735 -0.40926   ]\n",
      " [ 0.97062024  0.69024448]\n",
      " [-0.12005867 -1.41713912]\n",
      " [ 0.92742503  1.60649822]\n",
      " [ 1.29818387  1.42324747]\n",
      " [ 1.31618187 -1.60038986]\n",
      " [-1.04515596 -0.68413612]\n",
      " [ 0.621459   -0.86738687]\n",
      " [-1.21793678 -0.22600926]\n",
      " [ 0.79423982 -0.95901225]\n",
      " [ 1.22979146  0.78186986]\n",
      " [ 0.47027579  1.14837135]\n",
      " [-0.02286946 -1.05063762]\n",
      " [ 0.66825381  1.51487285]\n",
      " [-1.57069761  1.05674598]\n",
      " [ 0.71504861  1.23999673]\n",
      " [-0.01207066  0.69024448]\n",
      " [ 1.28378547  0.78186986]\n",
      " [ 0.11031575  1.05674598]\n",
      " [-0.48721791 -0.7757615 ]\n",
      " [-0.4008275   1.3316221 ]\n",
      " [ 0.34428977  0.32374299]\n",
      " [ 0.33349097  0.59861911]\n",
      " [-0.21004868  0.50699374]\n",
      " [ 1.00301664 -1.60038986]\n",
      " [ 0.6070606  -1.14226299]\n",
      " [ 0.98141904  0.50699374]\n",
      " [-1.23233518 -0.40926   ]\n",
      " [-0.03366826  0.78186986]\n",
      " [ 0.25789937 -0.22600926]\n",
      " [ 0.13911255  1.05674598]\n",
      " [-0.54481151 -0.86738687]\n",
      " [-0.01926986 -1.23388837]\n",
      " [-1.99905005  1.3316221 ]\n",
      " [-0.3792299  -0.13438388]\n",
      " [ 0.55306659  0.41536836]\n",
      " [-2.02784686 -0.68413612]\n",
      " [ 1.27298666  0.04886687]\n",
      " [ 1.35937707  1.60649822]\n",
      " [-0.23884548 -1.41713912]\n",
      " [ 0.53146899 -1.14226299]\n",
      " [-0.23524588  1.60649822]\n",
      " [-1.73987883 -0.86738687]\n",
      " [ 1.35217787 -0.04275851]\n",
      " [ 1.16859825  1.05674598]\n",
      " [ 1.03901264  1.3316221 ]\n",
      " [ 0.27949697 -0.13438388]\n",
      " [ 1.20459426 -1.60038986]\n",
      " [ 0.40908258  0.59861911]\n",
      " [-0.87597474 -0.95901225]\n",
      " [-0.75718793 -0.7757615 ]\n",
      " [ 0.54586739 -0.59251075]\n",
      " [ 0.6250586  -1.14226299]\n",
      " [ 0.11391535  0.23211761]\n",
      " [-0.4404231  -0.86738687]\n",
      " [-1.34392279  0.50699374]\n",
      " [ 0.75104461  0.14049224]\n",
      " [ 0.20030576  0.9651206 ]\n",
      " [-0.80398274  1.05674598]\n",
      " [-1.22513598  1.42324747]\n",
      " [ 0.90582743  1.3316221 ]\n",
      " [ 0.66105461  1.23999673]\n",
      " [-0.25684348 -1.32551374]\n",
      " [-1.39791679  1.14837135]\n",
      " [-0.11645907  0.32374299]\n",
      " [ 0.88063023  1.05674598]\n",
      " [-0.65639912  0.41536836]\n",
      " [ 0.09231775 -0.50088538]\n",
      " [ 0.5818634   0.04886687]\n",
      " [-1.65708802  0.14049224]\n",
      " [ 1.05701064 -1.23388837]\n",
      " [-0.35403269  0.41536836]\n",
      " [ 1.10020585 -1.32551374]\n",
      " [-1.4375124   1.42324747]\n",
      " [ 1.08940705  1.23999673]\n",
      " [ 0.41268218 -1.60038986]\n",
      " [-1.93425725  0.32374299]\n",
      " [ 1.27658627  0.23211761]\n",
      " [-2.13223527  1.51487285]\n",
      " [ 0.13191335  0.32374299]\n",
      " [ 0.31909257 -0.13438388]\n",
      " [ 0.44507858 -0.95901225]\n",
      " [ 0.41628178 -0.86738687]\n",
      " [-0.77518593 -0.95901225]\n",
      " [-1.78307403 -0.31763463]\n",
      " [ 1.33417987  0.69024448]\n",
      " [ 0.44867818 -1.32551374]\n",
      " [-0.17765228  0.23211761]\n",
      " [ 0.67905261 -1.32551374]\n",
      " [ 1.15779945 -1.05063762]\n",
      " [ 0.43787938  1.05674598]\n",
      " [ 0.76904262 -0.7757615 ]\n",
      " [ 0.76544302 -0.68413612]\n",
      " [ 1.35577747 -0.50088538]\n",
      " [ 0.603461    0.9651206 ]\n",
      " [-0.50881551  1.51487285]\n",
      " [-2.18982887 -1.05063762]\n",
      " [-0.07326387 -1.14226299]\n",
      " [ 0.13551295  1.14837135]\n",
      " [ 0.40548298  1.42324747]\n",
      " [ 0.07431975  0.41536836]\n",
      " [-0.4296243   0.50699374]\n",
      " [ 0.28309657 -1.50876449]\n",
      " [-0.56640911 -1.05063762]\n",
      " [ 0.46307659 -0.68413612]\n",
      " [ 1.16499865 -0.95901225]\n",
      " [-1.75067763 -0.95901225]\n",
      " [ 0.70065021  0.14049224]\n",
      " [ 0.85183342 -0.13438388]]\n"
     ]
    }
   ],
   "source": [
    "print (x_train)"
   ]
  },
  {
   "cell_type": "code",
   "execution_count": 18,
   "id": "256a783c-8c15-4a2b-8de0-a688f52e00c9",
   "metadata": {},
   "outputs": [
    {
     "name": "stdout",
     "output_type": "stream",
     "text": [
      "[[-0.04086746 -0.40926   ]\n",
      " [ 0.82303662  1.51487285]\n",
      " [-1.68228522 -1.41713912]\n",
      " [-0.20284948 -0.86738687]\n",
      " [ 0.77264222 -0.68413612]\n",
      " [ 0.84103462  0.14049224]\n",
      " [-0.31083749 -0.40926   ]\n",
      " [-1.80467163  1.42324747]\n",
      " [-0.49441711  1.60649822]\n",
      " [ 1.21179346  0.78186986]\n",
      " [ 0.30469417  1.23999673]\n",
      " [-1.26473158 -0.22600926]\n",
      " [ 0.89502863  1.05674598]\n",
      " [ 0.83383542  1.14837135]\n",
      " [ 0.18950696 -0.22600926]\n",
      " [ 0.10311655  0.69024448]\n",
      " [ 0.5710646  -0.59251075]\n",
      " [-2.04944446  0.87349523]\n",
      " [ 0.15351096 -1.50876449]\n",
      " [-0.25324388  0.41536836]\n",
      " [ 0.85903262  1.14837135]\n",
      " [-1.57789681  0.87349523]\n",
      " [ 0.37308658 -0.04275851]\n",
      " [ 0.99221784 -1.60038986]\n",
      " [-0.4728195  -0.04275851]\n",
      " [-2.22582487 -0.40926   ]\n",
      " [ 1.05341104  0.04886687]\n",
      " [ 1.31258227 -0.59251075]\n",
      " [-1.87306404  1.14837135]\n",
      " [-0.3864291   1.51487285]\n",
      " [ 0.28669617 -1.50876449]\n",
      " [-0.04446706 -1.23388837]\n",
      " [ 0.77984142  0.50699374]\n",
      " [-1.73627923  0.14049224]\n",
      " [-0.03006866 -0.31763463]\n",
      " [ 0.98501864 -0.7757615 ]\n",
      " [-0.64200072  1.23999673]\n",
      " [ 0.16430976  0.04886687]\n",
      " [ 0.32269217 -1.05063762]\n",
      " [-0.95516595 -0.40926   ]\n",
      " [-1.81187083  1.42324747]\n",
      " [ 0.34069017 -1.23388837]\n",
      " [ 0.5890626   0.14049224]\n",
      " [-0.90117195 -0.04275851]\n",
      " [ 1.02821384 -0.86738687]\n",
      " [-0.05526586  1.23999673]\n",
      " [-0.00847106  1.60649822]\n",
      " [-0.07686347  0.41536836]\n",
      " [-0.75358833 -1.60038986]\n",
      " [-2.24382288  0.87349523]]\n"
     ]
    }
   ],
   "source": [
    "print(x_test)"
   ]
  },
  {
   "cell_type": "markdown",
   "id": "30fb1de2-94bd-4bcc-b085-ea4c26ca21a7",
   "metadata": {},
   "source": [
    "Memanggil Function KKN"
   ]
  },
  {
   "cell_type": "code",
   "execution_count": 21,
   "id": "fa0add5c-5c89-40a5-91f3-935af78aaead",
   "metadata": {},
   "outputs": [
    {
     "data": {
      "text/html": [
       "<style>#sk-container-id-1 {color: black;}#sk-container-id-1 pre{padding: 0;}#sk-container-id-1 div.sk-toggleable {background-color: white;}#sk-container-id-1 label.sk-toggleable__label {cursor: pointer;display: block;width: 100%;margin-bottom: 0;padding: 0.3em;box-sizing: border-box;text-align: center;}#sk-container-id-1 label.sk-toggleable__label-arrow:before {content: \"▸\";float: left;margin-right: 0.25em;color: #696969;}#sk-container-id-1 label.sk-toggleable__label-arrow:hover:before {color: black;}#sk-container-id-1 div.sk-estimator:hover label.sk-toggleable__label-arrow:before {color: black;}#sk-container-id-1 div.sk-toggleable__content {max-height: 0;max-width: 0;overflow: hidden;text-align: left;background-color: #f0f8ff;}#sk-container-id-1 div.sk-toggleable__content pre {margin: 0.2em;color: black;border-radius: 0.25em;background-color: #f0f8ff;}#sk-container-id-1 input.sk-toggleable__control:checked~div.sk-toggleable__content {max-height: 200px;max-width: 100%;overflow: auto;}#sk-container-id-1 input.sk-toggleable__control:checked~label.sk-toggleable__label-arrow:before {content: \"▾\";}#sk-container-id-1 div.sk-estimator input.sk-toggleable__control:checked~label.sk-toggleable__label {background-color: #d4ebff;}#sk-container-id-1 div.sk-label input.sk-toggleable__control:checked~label.sk-toggleable__label {background-color: #d4ebff;}#sk-container-id-1 input.sk-hidden--visually {border: 0;clip: rect(1px 1px 1px 1px);clip: rect(1px, 1px, 1px, 1px);height: 1px;margin: -1px;overflow: hidden;padding: 0;position: absolute;width: 1px;}#sk-container-id-1 div.sk-estimator {font-family: monospace;background-color: #f0f8ff;border: 1px dotted black;border-radius: 0.25em;box-sizing: border-box;margin-bottom: 0.5em;}#sk-container-id-1 div.sk-estimator:hover {background-color: #d4ebff;}#sk-container-id-1 div.sk-parallel-item::after {content: \"\";width: 100%;border-bottom: 1px solid gray;flex-grow: 1;}#sk-container-id-1 div.sk-label:hover label.sk-toggleable__label {background-color: #d4ebff;}#sk-container-id-1 div.sk-serial::before {content: \"\";position: absolute;border-left: 1px solid gray;box-sizing: border-box;top: 0;bottom: 0;left: 50%;z-index: 0;}#sk-container-id-1 div.sk-serial {display: flex;flex-direction: column;align-items: center;background-color: white;padding-right: 0.2em;padding-left: 0.2em;position: relative;}#sk-container-id-1 div.sk-item {position: relative;z-index: 1;}#sk-container-id-1 div.sk-parallel {display: flex;align-items: stretch;justify-content: center;background-color: white;position: relative;}#sk-container-id-1 div.sk-item::before, #sk-container-id-1 div.sk-parallel-item::before {content: \"\";position: absolute;border-left: 1px solid gray;box-sizing: border-box;top: 0;bottom: 0;left: 50%;z-index: -1;}#sk-container-id-1 div.sk-parallel-item {display: flex;flex-direction: column;z-index: 1;position: relative;background-color: white;}#sk-container-id-1 div.sk-parallel-item:first-child::after {align-self: flex-end;width: 50%;}#sk-container-id-1 div.sk-parallel-item:last-child::after {align-self: flex-start;width: 50%;}#sk-container-id-1 div.sk-parallel-item:only-child::after {width: 0;}#sk-container-id-1 div.sk-dashed-wrapped {border: 1px dashed gray;margin: 0 0.4em 0.5em 0.4em;box-sizing: border-box;padding-bottom: 0.4em;background-color: white;}#sk-container-id-1 div.sk-label label {font-family: monospace;font-weight: bold;display: inline-block;line-height: 1.2em;}#sk-container-id-1 div.sk-label-container {text-align: center;}#sk-container-id-1 div.sk-container {/* jupyter's `normalize.less` sets `[hidden] { display: none; }` but bootstrap.min.css set `[hidden] { display: none !important; }` so we also need the `!important` here to be able to override the default hidden behavior on the sphinx rendered scikit-learn.org. See: https://github.com/scikit-learn/scikit-learn/issues/21755 */display: inline-block !important;position: relative;}#sk-container-id-1 div.sk-text-repr-fallback {display: none;}</style><div id=\"sk-container-id-1\" class=\"sk-top-container\"><div class=\"sk-text-repr-fallback\"><pre>KNeighborsClassifier()</pre><b>In a Jupyter environment, please rerun this cell to show the HTML representation or trust the notebook. <br />On GitHub, the HTML representation is unable to render, please try loading this page with nbviewer.org.</b></div><div class=\"sk-container\" hidden><div class=\"sk-item\"><div class=\"sk-estimator sk-toggleable\"><input class=\"sk-toggleable__control sk-hidden--visually\" id=\"sk-estimator-id-1\" type=\"checkbox\" checked><label for=\"sk-estimator-id-1\" class=\"sk-toggleable__label sk-toggleable__label-arrow\">KNeighborsClassifier</label><div class=\"sk-toggleable__content\"><pre>KNeighborsClassifier()</pre></div></div></div></div></div>"
      ],
      "text/plain": [
       "KNeighborsClassifier()"
      ]
     },
     "execution_count": 21,
     "metadata": {},
     "output_type": "execute_result"
    }
   ],
   "source": [
    "from sklearn.neighbors import KNeighborsClassifier\n",
    "Classifier = KNeighborsClassifier(n_neighbors=5, metric='minkowski', p=2)\n",
    "Classifier.fit(x_train, y_train)"
   ]
  },
  {
   "cell_type": "markdown",
   "id": "1dc44163-e4f1-4efc-b3b8-3879e88d023a",
   "metadata": {},
   "source": [
    "Menentukan Prediksi"
   ]
  },
  {
   "cell_type": "code",
   "execution_count": 24,
   "id": "0cce6496-6ebe-4b6e-96ee-2dce2735a769",
   "metadata": {},
   "outputs": [],
   "source": [
    "y_pred = Classifier.predict(x_test)"
   ]
  },
  {
   "cell_type": "markdown",
   "id": "c0d253fa-3408-4769-95d6-88fc2e8ede14",
   "metadata": {},
   "source": [
    "Evaluasi dan Validasi"
   ]
  },
  {
   "cell_type": "code",
   "execution_count": 25,
   "id": "ef33e109-3b9c-4b68-98aa-f6bf7ca39220",
   "metadata": {},
   "outputs": [
    {
     "name": "stdout",
     "output_type": "stream",
     "text": [
      "[[12  2]\n",
      " [ 0 36]]\n"
     ]
    }
   ],
   "source": [
    "from sklearn.metrics import confusion_matrix\n",
    "cm = confusion_matrix(Y_test, y_pred)\n",
    "print(cm)"
   ]
  },
  {
   "cell_type": "code",
   "execution_count": 34,
   "id": "fd143ca0-ef31-4555-b963-4021973609fb",
   "metadata": {},
   "outputs": [
    {
     "name": "stdout",
     "output_type": "stream",
     "text": [
      "              precision    recall  f1-score   support\n",
      "\n",
      "           0       1.00      0.86      0.92        14\n",
      "           1       0.95      1.00      0.97        36\n",
      "\n",
      "    accuracy                           0.96        50\n",
      "   macro avg       0.97      0.93      0.95        50\n",
      "weighted avg       0.96      0.96      0.96        50\n",
      "\n"
     ]
    }
   ],
   "source": [
    "from sklearn.metrics import classification_report\n",
    "\n",
    "akurasi = classification_report(Y_test, y_pred)\n",
    "print(akurasi)"
   ]
  },
  {
   "cell_type": "code",
   "execution_count": 38,
   "id": "b3da5dfc-0cd6-4c44-80eb-6f94174266d8",
   "metadata": {},
   "outputs": [
    {
     "name": "stdout",
     "output_type": "stream",
     "text": [
      "Tingkatan akurasi :96 persen\n"
     ]
    }
   ],
   "source": [
    "from sklearn.metrics import accuracy_score\n",
    "akurasi = accuracy_score(Y_test,y_pred)\n",
    "print(\"Tingkatan akurasi :%d persen\"%(akurasi*100))"
   ]
  },
  {
   "cell_type": "code",
   "execution_count": 52,
   "id": "2f064c11-4154-4a79-918b-3c21dd5f2b05",
   "metadata": {},
   "outputs": [
    {
     "data": {
      "image/png": "[encoded data removed]",
      "text/plain": [
       "<Figure size 640x480 with 1 Axes>"
      ]
     },
     "metadata": {},
     "output_type": "display_data"
    },
    {
     "data": {
      "image/png": "[encoded data removed]",
      "text/plain": [
       "<Figure size 640x480 with 1 Axes>"
      ]
     },
     "metadata": {},
     "output_type": "display_data"
    }
   ],
   "source": [
    "from matplotlib.colors import ListedColormap\n",
    "x_set, y_set = x_train, y_train \n",
    "x1, x2 = np.meshgrid(np.arange(start = x_set[:, 0].min()-1, stop = x_set[:, 0].max()+1, step = 0.01),\n",
    "                    np.arange(start = x_set[:, 1].min()-1, stop = x_set[:, 0].max()+1, step = 0.01))\n",
    "plt.contourf(x1, x2, Classifier.predict(np.array([x1.ravel(), x2.ravel()]).T).reshape(x1.shape), alpha = 0.75, cmap = ListedColormap(('red', 'green')))\n",
    "plt.xlim(x1.min(), x1.max())\n",
    "plt.ylim(x2.min(), x2.max())\n",
    "for i, j in enumerate (np.unique(y_set)):\n",
    "    plt.scatter(x_set[y_set == j, 0], x_set[y_set == j, 1], c = [ListedColormap(('red', 'green'))(i)], label = j)\n",
    "    plt.title('Klasifikasi Data dengan K-Nearest Neighbor')\n",
    "    plt.xlabel('Moisture')\n",
    "    plt.ylabel('Temp')\n",
    "    plt.legend()\n",
    "    plt.show()"
   ]
  },
  {
   "cell_type": "code",
   "execution_count": null,
   "id": "5f963c8e-9a04-4b6a-828c-ed8fdc4598de",
   "metadata": {},
   "outputs": [],
   "source": []
  }
 ],
 "metadata": {
  "kernelspec": {
   "display_name": "anaconda-panel-2023.05-py310",
   "language": "python",
   "name": "conda-env-anaconda-panel-2023.05-py310-py"
  },
  "language_info": {
   "codemirror_mode": {
    "name": "ipython",
    "version": 3
   },
   "file_extension": ".py",
   "mimetype": "text/x-python",
   "name": "python",
   "nbconvert_exporter": "python",
   "pygments_lexer": "ipython3",
   "version": "3.11.5"
  }
 },
 "nbformat": 4,
 "nbformat_minor": 5
}
